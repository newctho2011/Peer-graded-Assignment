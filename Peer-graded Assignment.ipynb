{
 "cells": [
  {
   "cell_type": "markdown",
   "id": "166e92cf-0deb-4e12-9bd7-06f354f5e4e2",
   "metadata": {},
   "source": [
    "# My Jupyter Notebook on IBM Watson Studio"
   ]
  },
  {
   "cell_type": "markdown",
   "id": "acc7c868-3dcd-421e-a4f6-02c0c8eb0ff5",
   "metadata": {},
   "source": [
    "**Thomas Newcomer**"
   ]
  },
  {
   "cell_type": "markdown",
   "id": "d5335706-4498-4df1-b159-e3ae9248df5a",
   "metadata": {},
   "source": [
    "I hope to be a Business Analyst one day."
   ]
  },
  {
   "cell_type": "markdown",
   "id": "b2e23488-ae3b-4743-84ab-a191d756fd3e",
   "metadata": {},
   "source": [
    "*I am interested in data science because data is the future of the professional world and I have always been interested in solving problems and finding patterns.*"
   ]
  },
  {
   "cell_type": "markdown",
   "id": "0d663a8d-b2fe-488e-9fb2-846b3ddf56ab",
   "metadata": {},
   "source": [
    "### We will finally find out the answer to 2+2"
   ]
  },
  {
   "cell_type": "code",
   "execution_count": 1,
   "id": "7523068c-5177-4130-bcac-887d8349187b",
   "metadata": {},
   "outputs": [
    {
     "data": {
      "text/plain": [
       "4"
      ]
     },
     "execution_count": 1,
     "metadata": {},
     "output_type": "execute_result"
    }
   ],
   "source": [
    "2+2"
   ]
  },
  {
   "cell_type": "markdown",
   "id": "2c832893-8d45-44d9-80fc-2ddf3d7c9995",
   "metadata": {},
   "source": [
    "- one\n",
    "- two\n",
    "- three\n",
    "- four"
   ]
  },
  {
   "cell_type": "markdown",
   "id": "8c0f8ad2-2b15-44a5-b6ac-cc07e4b06607",
   "metadata": {},
   "source": [
    "| Coolest | Awesomest | Dopest |\n",
    "| ------- | ------- | -------|\n",
    "|YOU!|YOU!|YOU!|"
   ]
  },
  {
   "cell_type": "markdown",
   "id": "049e21ae-1053-41a2-b0f5-a42626c9d4e5",
   "metadata": {},
   "source": [
    "The Forbidden link ... <a href=\"https://www.youtube.com/watch?v=dQw4w9WgXcQ&ab_channel=RickAstley\" target=\"_blank\">DO NOT CLICK<a>"
   ]
  },
  {
   "cell_type": "code",
   "execution_count": null,
   "id": "a4de0b6b-d090-46eb-a967-e21928c7b726",
   "metadata": {},
   "outputs": [],
   "source": []
  }
 ],
 "metadata": {
  "kernelspec": {
   "display_name": "Python",
   "language": "python",
   "name": "conda-env-python-py"
  },
  "language_info": {
   "codemirror_mode": {
    "name": "ipython",
    "version": 3
   },
   "file_extension": ".py",
   "mimetype": "text/x-python",
   "name": "python",
   "nbconvert_exporter": "python",
   "pygments_lexer": "ipython3",
   "version": "3.7.12"
  }
 },
 "nbformat": 4,
 "nbformat_minor": 5
}
